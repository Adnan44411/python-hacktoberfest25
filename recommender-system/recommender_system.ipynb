{
 "cells": [
  {
   "attachments": {},
   "cell_type": "markdown",
   "metadata": {},
   "source": [
    "# Recommender System"
   ]
  },
  {
   "cell_type": "markdown",
   "metadata": {},
   "source": [
    "### 1.The main objective of this project is to create a recommender system that will give an idea about which items to recommend. \n",
    "### 2.The goal is to find popular items - globally, country-wise and month-wise and to recommmend items based on estimated ratings and user ratings."
   ]
  },
  {
   "cell_type": "markdown",
   "metadata": {},
   "source": [
    "### Import the necessary libraries."
   ]
  },
  {
   "cell_type": "code",
   "execution_count": null,
   "metadata": {
    "_cell_guid": "b1076dfc-b9ad-4769-8c92-a6c4dae69d19",
    "_uuid": "8f2839f25d086af736a60e9eeb907d3b93b6e0e5",
    "execution": {
     "iopub.execute_input": "2023-03-13T16:42:41.577605Z",
     "iopub.status.busy": "2023-03-13T16:42:41.577054Z",
     "iopub.status.idle": "2023-03-13T16:42:41.769226Z",
     "shell.execute_reply": "2023-03-13T16:42:41.768005Z",
     "shell.execute_reply.started": "2023-03-13T16:42:41.577506Z"
    }
   },
   "outputs": [],
   "source": [
    "# This Python 3 environment comes with many helpful analytics libraries installed\n",
    "# It is defined by the kaggle/python Docker image: https://github.com/kaggle/docker-python\n",
    "# For example, here's several helpful packages to load\n",
    "import pandas as pd\n",
    "import numpy as np # linear algebra\n",
    "import pandas as pd # data processing, CSV file I/O (e.g. pd.read_csv)\n",
    "import matplotlib.pyplot as plt\n",
    "from surprise import SVD\n",
    "from surprise import Dataset\n",
    "from surprise import Reader\n",
    "\n",
    "from mlxtend.frequent_patterns import apriori, association_rules\n",
    "\n",
    "# Input data files are available in the read-only \"../input/\" directory\n",
    "# For example, running this (by clicking run or pressing Shift+Enter) will list all files under the input directory\n",
    "\n",
    "import os\n",
    "for dirname, _, filenames in os.walk('/kaggle/input'):\n",
    "    for filename in filenames:\n",
    "        print(os.path.join(dirname, filename))\n",
    "\n",
    "# You can write up to 20GB to the current directory (/kaggle/working/) that gets preserved as output when you create a version using \"Save & Run All\" \n",
    "# You can also write temporary files to /kaggle/temp/, but they won't be saved outside of the current session"
   ]
  },
  {
   "cell_type": "markdown",
   "metadata": {},
   "source": [
    "### Load the dataset "
   ]
  },
  {
   "cell_type": "code",
   "execution_count": null,
   "metadata": {
    "execution": {
     "iopub.execute_input": "2023-03-13T16:42:41.771729Z",
     "iopub.status.busy": "2023-03-13T16:42:41.771357Z",
     "iopub.status.idle": "2023-03-13T16:44:37.015169Z",
     "shell.execute_reply": "2023-03-13T16:44:37.013635Z",
     "shell.execute_reply.started": "2023-03-13T16:42:41.771697Z"
    }
   },
   "outputs": [],
   "source": [
    "df = pd.read_excel('/kaggle/input/onlineretail/OnlineRetail.xlsx')\n"
   ]
  },
  {
   "cell_type": "code",
   "execution_count": null,
   "metadata": {
    "execution": {
     "iopub.execute_input": "2023-03-13T16:44:37.017336Z",
     "iopub.status.busy": "2023-03-13T16:44:37.016679Z",
     "iopub.status.idle": "2023-03-13T16:44:37.095568Z",
     "shell.execute_reply": "2023-03-13T16:44:37.094159Z",
     "shell.execute_reply.started": "2023-03-13T16:44:37.017299Z"
    }
   },
   "outputs": [],
   "source": [
    "df = df.loc[df['Quantity'] > 0]"
   ]
  },
  {
   "cell_type": "markdown",
   "metadata": {},
   "source": [
    "### Displaying the dataset"
   ]
  },
  {
   "cell_type": "code",
   "execution_count": null,
   "metadata": {
    "execution": {
     "iopub.execute_input": "2023-03-13T16:44:37.098778Z",
     "iopub.status.busy": "2023-03-13T16:44:37.098275Z",
     "iopub.status.idle": "2023-03-13T16:44:37.259991Z",
     "shell.execute_reply": "2023-03-13T16:44:37.258686Z",
     "shell.execute_reply.started": "2023-03-13T16:44:37.098743Z"
    }
   },
   "outputs": [],
   "source": [
    "df.head(10)"
   ]
  },
  {
   "cell_type": "markdown",
   "metadata": {},
   "source": [
    "### List of Countries available in the dataset"
   ]
  },
  {
   "cell_type": "code",
   "execution_count": null,
   "metadata": {
    "execution": {
     "iopub.execute_input": "2023-03-13T16:44:37.262196Z",
     "iopub.status.busy": "2023-03-13T16:44:37.261668Z",
     "iopub.status.idle": "2023-03-13T16:44:37.328181Z",
     "shell.execute_reply": "2023-03-13T16:44:37.326846Z",
     "shell.execute_reply.started": "2023-03-13T16:44:37.262144Z"
    }
   },
   "outputs": [],
   "source": [
    "df.value_counts(['Country'])"
   ]
  },
  {
   "cell_type": "code",
   "execution_count": null,
   "metadata": {
    "execution": {
     "iopub.execute_input": "2023-03-13T16:44:37.330622Z",
     "iopub.status.busy": "2023-03-13T16:44:37.330138Z",
     "iopub.status.idle": "2023-03-13T16:44:37.393409Z",
     "shell.execute_reply": "2023-03-13T16:44:37.391382Z",
     "shell.execute_reply.started": "2023-03-13T16:44:37.330572Z"
    }
   },
   "outputs": [],
   "source": [
    "df.value_counts(['InvoiceDate'])"
   ]
  },
  {
   "cell_type": "markdown",
   "metadata": {},
   "source": [
    "### Drop the Null values"
   ]
  },
  {
   "cell_type": "code",
   "execution_count": null,
   "metadata": {
    "execution": {
     "iopub.execute_input": "2023-03-13T16:44:37.397066Z",
     "iopub.status.busy": "2023-03-13T16:44:37.395360Z",
     "iopub.status.idle": "2023-03-13T16:44:37.555502Z",
     "shell.execute_reply": "2023-03-13T16:44:37.553987Z",
     "shell.execute_reply.started": "2023-03-13T16:44:37.396976Z"
    }
   },
   "outputs": [],
   "source": [
    "df.dropna(inplace=True)"
   ]
  },
  {
   "cell_type": "markdown",
   "metadata": {},
   "source": [
    "### Most popular items globally"
   ]
  },
  {
   "cell_type": "code",
   "execution_count": null,
   "metadata": {
    "execution": {
     "iopub.execute_input": "2023-03-13T16:44:37.558846Z",
     "iopub.status.busy": "2023-03-13T16:44:37.557622Z",
     "iopub.status.idle": "2023-03-13T16:44:37.578042Z",
     "shell.execute_reply": "2023-03-13T16:44:37.576632Z",
     "shell.execute_reply.started": "2023-03-13T16:44:37.558793Z"
    }
   },
   "outputs": [],
   "source": [
    "df1 = df['Description']\n",
    "duplicates = df1.duplicated()\n",
    "print(\"Number of duplicates:\", duplicates.sum())\n"
   ]
  },
  {
   "cell_type": "code",
   "execution_count": null,
   "metadata": {
    "execution": {
     "iopub.execute_input": "2023-03-13T16:44:37.580953Z",
     "iopub.status.busy": "2023-03-13T16:44:37.580461Z",
     "iopub.status.idle": "2023-03-13T16:44:37.622940Z",
     "shell.execute_reply": "2023-03-13T16:44:37.621586Z",
     "shell.execute_reply.started": "2023-03-13T16:44:37.580882Z"
    }
   },
   "outputs": [],
   "source": [
    "duplicated_rows = df1[duplicates]\n",
    "most_common_duplicates = duplicated_rows.value_counts().head(10)\n",
    "print(f\"Most popular items Globally:\\n{most_common_duplicates}\")"
   ]
  },
  {
   "cell_type": "markdown",
   "metadata": {},
   "source": [
    "### The above result generates set of item descriptions that are most popular globally"
   ]
  },
  {
   "cell_type": "markdown",
   "metadata": {},
   "source": [
    "### The next is to find the most popular item among countries"
   ]
  },
  {
   "cell_type": "code",
   "execution_count": null,
   "metadata": {
    "execution": {
     "iopub.execute_input": "2023-03-13T16:44:37.627469Z",
     "iopub.status.busy": "2023-03-13T16:44:37.627034Z",
     "iopub.status.idle": "2023-03-13T16:48:44.366106Z",
     "shell.execute_reply": "2023-03-13T16:48:44.364515Z",
     "shell.execute_reply.started": "2023-03-13T16:44:37.627425Z"
    }
   },
   "outputs": [],
   "source": [
    "most_popular_items = df.groupby(['Country'])['Description'].sum().sort_values(ascending=False).reset_index()\n"
   ]
  },
  {
   "cell_type": "markdown",
   "metadata": {},
   "source": [
    "### Print the result"
   ]
  },
  {
   "cell_type": "code",
   "execution_count": null,
   "metadata": {
    "execution": {
     "iopub.execute_input": "2023-03-13T16:48:44.368314Z",
     "iopub.status.busy": "2023-03-13T16:48:44.367921Z",
     "iopub.status.idle": "2023-03-13T16:48:44.419844Z",
     "shell.execute_reply": "2023-03-13T16:48:44.418697Z",
     "shell.execute_reply.started": "2023-03-13T16:48:44.368280Z"
    }
   },
   "outputs": [],
   "source": [
    "print(most_popular_items.head(25))"
   ]
  },
  {
   "cell_type": "markdown",
   "metadata": {},
   "source": [
    "### The above result generates the most popular items for each country specifically"
   ]
  },
  {
   "cell_type": "markdown",
   "metadata": {},
   "source": [
    "##  **The below step is to find the most popular items - monthly wise**"
   ]
  },
  {
   "cell_type": "code",
   "execution_count": null,
   "metadata": {
    "execution": {
     "iopub.execute_input": "2023-03-13T16:48:44.421871Z",
     "iopub.status.busy": "2023-03-13T16:48:44.421375Z",
     "iopub.status.idle": "2023-03-13T16:48:48.455639Z",
     "shell.execute_reply": "2023-03-13T16:48:48.454633Z",
     "shell.execute_reply.started": "2023-03-13T16:48:44.421831Z"
    }
   },
   "outputs": [],
   "source": [
    "df['InvoiceDate'] = pd.to_datetime(df['InvoiceDate'])\n",
    "\n",
    "\n",
    "df['date_new'] = df.InvoiceDate.dt.strftime('%Y-%m')\n",
    "top_items_monthly = []\n",
    "for month in df.date_new.unique():\n",
    "    trans_month = df.loc[df.date_new == month]\n",
    "    trans_month = (trans_month.groupby(['InvoiceNo', 'Description'])['Quantity']\n",
    "                  .sum().unstack().reset_index().fillna(0)\n",
    "                  .set_index('InvoiceNo'))"
   ]
  },
  {
   "cell_type": "code",
   "execution_count": null,
   "metadata": {
    "execution": {
     "iopub.execute_input": "2023-03-13T16:48:48.458586Z",
     "iopub.status.busy": "2023-03-13T16:48:48.457304Z",
     "iopub.status.idle": "2023-03-13T16:48:49.448603Z",
     "shell.execute_reply": "2023-03-13T16:48:49.447537Z",
     "shell.execute_reply.started": "2023-03-13T16:48:48.458535Z"
    }
   },
   "outputs": [],
   "source": [
    "\n",
    "trans_month[trans_month >= 1] = True\n",
    "trans_month[trans_month.isna()] = False "
   ]
  },
  {
   "cell_type": "code",
   "execution_count": null,
   "metadata": {
    "execution": {
     "iopub.execute_input": "2023-03-13T16:48:49.450952Z",
     "iopub.status.busy": "2023-03-13T16:48:49.450238Z",
     "iopub.status.idle": "2023-03-13T16:48:50.370238Z",
     "shell.execute_reply": "2023-03-13T16:48:50.368851Z",
     "shell.execute_reply.started": "2023-03-13T16:48:49.450906Z"
    }
   },
   "outputs": [],
   "source": [
    "import warnings\n",
    "warnings.filterwarnings('ignore')\n",
    "frequent_itemsets = apriori(trans_month, min_support=0.03,use_colnames=True)\n"
   ]
  },
  {
   "cell_type": "markdown",
   "metadata": {},
   "source": [
    "### Using the **association rules** method"
   ]
  },
  {
   "cell_type": "code",
   "execution_count": null,
   "metadata": {
    "execution": {
     "iopub.execute_input": "2023-03-13T16:48:50.372084Z",
     "iopub.status.busy": "2023-03-13T16:48:50.371657Z",
     "iopub.status.idle": "2023-03-13T16:48:50.387618Z",
     "shell.execute_reply": "2023-03-13T16:48:50.385928Z",
     "shell.execute_reply.started": "2023-03-13T16:48:50.372043Z"
    }
   },
   "outputs": [],
   "source": [
    "associationRules = association_rules(frequent_itemsets, metric=\"lift\", min_threshold=1)\n",
    "\n",
    "top_k = associationRules.sort_values(by=['support'],ascending=False).iloc[:10][['antecedents','support']].reset_index(drop=True)\n",
    "\n",
    "top_items_monthly.append((month, top_k))"
   ]
  },
  {
   "cell_type": "markdown",
   "metadata": {},
   "source": [
    "### **Using Pivot**"
   ]
  },
  {
   "cell_type": "code",
   "execution_count": null,
   "metadata": {
    "execution": {
     "iopub.execute_input": "2023-03-13T16:48:50.389637Z",
     "iopub.status.busy": "2023-03-13T16:48:50.389205Z",
     "iopub.status.idle": "2023-03-13T16:48:52.561281Z",
     "shell.execute_reply": "2023-03-13T16:48:52.559766Z",
     "shell.execute_reply.started": "2023-03-13T16:48:50.389601Z"
    }
   },
   "outputs": [],
   "source": [
    "pivot_dfs = []\n",
    "for i, montly_pairs in enumerate(top_items_monthly):\n",
    "    month, data = montly_pairs\n",
    "    inv_map = {k: v for k, v in enumerate(data.antecedents)}\n",
    "    rows = []\n",
    "    for index, row in df.loc[(df.date_new == month)].iterrows():\n",
    "        keys = [inv_map[k] for tup in str(row['Description']).split(',') for k,v in inv_map.items() if str(row['Description']) in list(v)]\n",
    "        for key in keys:\n",
    "            rows.append([month, key])\n",
    "    pivot_df = pd.DataFrame(rows, columns=['month','Item'])\n",
    "    pivot_df.head()\n",
    "    pivot_dfs.append(pivot_df.pivot_table(values=[\"Item\"],index=[\"month\"],aggfunc=\"count\",fill_value=0))\n"
   ]
  },
  {
   "cell_type": "markdown",
   "metadata": {},
   "source": [
    "### The below code displays the most popular items- monthly wise"
   ]
  },
  {
   "cell_type": "code",
   "execution_count": null,
   "metadata": {
    "execution": {
     "iopub.execute_input": "2023-03-13T16:48:52.563098Z",
     "iopub.status.busy": "2023-03-13T16:48:52.562669Z",
     "iopub.status.idle": "2023-03-13T16:48:52.862431Z",
     "shell.execute_reply": "2023-03-13T16:48:52.860618Z",
     "shell.execute_reply.started": "2023-03-13T16:48:52.563060Z"
    }
   },
   "outputs": [],
   "source": [
    "\n",
    "df['InvoiceDate'] = pd.to_datetime(df['InvoiceDate'])\n",
    "df.set_index('InvoiceDate', inplace=True)\n",
    "\n",
    "monthly_df = df.groupby(pd.Grouper(freq='M'))['Description'].value_counts()\n",
    "\n",
    "repeated_products = monthly_df[monthly_df > 1]\n",
    "\n",
    "for month, counts in repeated_products.groupby(level=0):\n",
    "    print(f\"Month: {month.strftime('%B %Y')}\")\n",
    "    print(counts)\n",
    "    "
   ]
  },
  {
   "cell_type": "markdown",
   "metadata": {},
   "source": [
    "### **The following steps will be implementing the recommendation predictor using user ratings and estimated ratings.**"
   ]
  },
  {
   "cell_type": "markdown",
   "metadata": {},
   "source": [
    "#### Create a new dataframe with attribute values"
   ]
  },
  {
   "cell_type": "code",
   "execution_count": null,
   "metadata": {
    "execution": {
     "iopub.execute_input": "2023-03-13T16:48:52.864479Z",
     "iopub.status.busy": "2023-03-13T16:48:52.864058Z",
     "iopub.status.idle": "2023-03-13T16:48:52.931045Z",
     "shell.execute_reply": "2023-03-13T16:48:52.929443Z",
     "shell.execute_reply.started": "2023-03-13T16:48:52.864442Z"
    }
   },
   "outputs": [],
   "source": [
    "df1 = df[['CustomerID', 'Description','StockCode', 'Quantity']]"
   ]
  },
  {
   "cell_type": "markdown",
   "metadata": {},
   "source": [
    "#### Create a rating matrix with the help of pivot table."
   ]
  },
  {
   "cell_type": "code",
   "execution_count": null,
   "metadata": {
    "execution": {
     "iopub.execute_input": "2023-03-13T16:48:52.932611Z",
     "iopub.status.busy": "2023-03-13T16:48:52.932255Z",
     "iopub.status.idle": "2023-03-13T16:48:55.317863Z",
     "shell.execute_reply": "2023-03-13T16:48:55.316582Z",
     "shell.execute_reply.started": "2023-03-13T16:48:52.932581Z"
    }
   },
   "outputs": [],
   "source": [
    "ratings_matrix = df1.pivot_table(index=['CustomerID'], columns=['StockCode'], values='Quantity', fill_value=0)\n"
   ]
  },
  {
   "cell_type": "markdown",
   "metadata": {},
   "source": [
    "#### The algorithm we will be using is **SVD()-> Single Value Decomposition**"
   ]
  },
  {
   "cell_type": "code",
   "execution_count": null,
   "metadata": {
    "execution": {
     "iopub.execute_input": "2023-03-13T16:48:55.320160Z",
     "iopub.status.busy": "2023-03-13T16:48:55.319475Z",
     "iopub.status.idle": "2023-03-13T16:48:55.325843Z",
     "shell.execute_reply": "2023-03-13T16:48:55.324584Z",
     "shell.execute_reply.started": "2023-03-13T16:48:55.320103Z"
    }
   },
   "outputs": [],
   "source": [
    "algo = SVD()\n"
   ]
  },
  {
   "cell_type": "code",
   "execution_count": null,
   "metadata": {
    "execution": {
     "iopub.execute_input": "2023-03-13T16:48:55.328457Z",
     "iopub.status.busy": "2023-03-13T16:48:55.327921Z",
     "iopub.status.idle": "2023-03-13T16:48:55.797092Z",
     "shell.execute_reply": "2023-03-13T16:48:55.795579Z",
     "shell.execute_reply.started": "2023-03-13T16:48:55.328409Z"
    }
   },
   "outputs": [],
   "source": [
    "\n",
    "reader = Reader(rating_scale=(1, 5))\n",
    "surprise_data = Dataset.load_from_df(df1[['CustomerID', 'StockCode', 'Quantity']], reader)"
   ]
  },
  {
   "cell_type": "code",
   "execution_count": null,
   "metadata": {
    "execution": {
     "iopub.execute_input": "2023-03-13T16:48:55.798570Z",
     "iopub.status.busy": "2023-03-13T16:48:55.798212Z",
     "iopub.status.idle": "2023-03-13T16:49:10.852726Z",
     "shell.execute_reply": "2023-03-13T16:49:10.850264Z",
     "shell.execute_reply.started": "2023-03-13T16:48:55.798538Z"
    }
   },
   "outputs": [],
   "source": [
    "\n",
    "trainset = surprise_data.build_full_trainset()\n",
    "testset = trainset.build_anti_testset()\n"
   ]
  },
  {
   "cell_type": "markdown",
   "metadata": {},
   "source": [
    "#### Fit the algorithm"
   ]
  },
  {
   "cell_type": "code",
   "execution_count": null,
   "metadata": {
    "execution": {
     "iopub.execute_input": "2023-03-13T16:49:10.856451Z",
     "iopub.status.busy": "2023-03-13T16:49:10.855141Z",
     "iopub.status.idle": "2023-03-13T16:49:38.694939Z",
     "shell.execute_reply": "2023-03-13T16:49:38.693280Z",
     "shell.execute_reply.started": "2023-03-13T16:49:10.856396Z"
    }
   },
   "outputs": [],
   "source": [
    "algo.fit(trainset)"
   ]
  },
  {
   "cell_type": "markdown",
   "metadata": {},
   "source": [
    "#### Make predictions using the test data that we found using the algorithm."
   ]
  },
  {
   "cell_type": "code",
   "execution_count": null,
   "metadata": {
    "execution": {
     "iopub.execute_input": "2023-03-13T16:49:38.696792Z",
     "iopub.status.busy": "2023-03-13T16:49:38.696409Z",
     "iopub.status.idle": "2023-03-13T16:51:57.040712Z",
     "shell.execute_reply": "2023-03-13T16:51:57.039309Z",
     "shell.execute_reply.started": "2023-03-13T16:49:38.696750Z"
    }
   },
   "outputs": [],
   "source": [
    "\n",
    "predictions = algo.test(testset)"
   ]
  },
  {
   "cell_type": "code",
   "execution_count": null,
   "metadata": {
    "execution": {
     "iopub.execute_input": "2023-03-13T16:51:57.043800Z",
     "iopub.status.busy": "2023-03-13T16:51:57.043276Z",
     "iopub.status.idle": "2023-03-13T16:52:09.993670Z",
     "shell.execute_reply": "2023-03-13T16:52:09.992023Z",
     "shell.execute_reply.started": "2023-03-13T16:51:57.043752Z"
    }
   },
   "outputs": [],
   "source": [
    "\n",
    "top_n = {}\n",
    "for uid, iid, true_r, est, _ in predictions:\n",
    "    if uid not in top_n.keys():\n",
    "        top_n[uid] = [(iid, est)]\n",
    "    else:\n",
    "        top_n[uid].append((iid, est))"
   ]
  },
  {
   "cell_type": "markdown",
   "metadata": {},
   "source": [
    "#### Drop the null values in the Columns = StockCode and Description as both holds the items that contains missing values and outliers."
   ]
  },
  {
   "cell_type": "code",
   "execution_count": null,
   "metadata": {
    "execution": {
     "iopub.execute_input": "2023-03-13T16:52:09.995767Z",
     "iopub.status.busy": "2023-03-13T16:52:09.995277Z",
     "iopub.status.idle": "2023-03-13T16:52:10.166911Z",
     "shell.execute_reply": "2023-03-13T16:52:10.165501Z",
     "shell.execute_reply.started": "2023-03-13T16:52:09.995704Z"
    }
   },
   "outputs": [],
   "source": [
    "\n",
    "\n",
    "df1.dropna(subset=[\"StockCode\", \"Description\"], inplace=True)\n",
    "\n",
    "descriptions = df1.groupby(\"StockCode\").first()[\"Description\"]\n",
    "\n",
    "\n",
    "desc_dict = descriptions.to_dict()\n"
   ]
  },
  {
   "cell_type": "markdown",
   "metadata": {},
   "source": [
    "### **The below code displays the predictions based on the recommended items.**"
   ]
  },
  {
   "cell_type": "code",
   "execution_count": null,
   "metadata": {
    "execution": {
     "iopub.execute_input": "2023-03-13T16:52:10.168770Z",
     "iopub.status.busy": "2023-03-13T16:52:10.168406Z",
     "iopub.status.idle": "2023-03-13T16:52:11.786848Z",
     "shell.execute_reply": "2023-03-13T16:52:11.785505Z",
     "shell.execute_reply.started": "2023-03-13T16:52:10.168739Z"
    }
   },
   "outputs": [],
   "source": [
    "global_top_n = {}\n",
    "\n",
    "for uid, user_ratings in top_n.items():\n",
    "    user_ratings.sort(key=lambda x: x[1], reverse=True)\n",
    "    global_top_n[uid] = []\n",
    "    for iid, est_rating in user_ratings[:5]:\n",
    "        if iid in desc_dict:\n",
    "            global_top_n[uid].append((iid, desc_dict[iid]))\n",
    "\n",
    "all_items = [iid for uid in global_top_n for iid, desc in global_top_n[uid]]\n",
    "item_counts = {iid: all_items.count(iid) for iid in set(all_items)}\n",
    "\n",
    "print(\"Most Recommended Items (in number of recommendations):\")\n",
    "for item, count in sorted(item_counts.items(), key=lambda x: x[1], reverse=True):\n",
    "    if item in desc_dict:\n",
    "        desc = desc_dict[item]\n",
    "        print(\"\\t\", \"Item ID:\", item, \"(\\\"\" + str(desc) + \"\\\")\", f\"recommended {count} times\") \n"
   ]
  },
  {
   "cell_type": "code",
   "execution_count": null,
   "metadata": {},
   "outputs": [],
   "source": []
  }
 ],
 "metadata": {
  "kernelspec": {
   "display_name": "Python 3",
   "language": "python",
   "name": "python3"
  },
  "language_info": {
   "codemirror_mode": {
    "name": "ipython",
    "version": 3
   },
   "file_extension": ".py",
   "mimetype": "text/x-python",
   "name": "python",
   "nbconvert_exporter": "python",
   "pygments_lexer": "ipython3",
   "version": "3.7.12"
  }
 },
 "nbformat": 4,
 "nbformat_minor": 4
}
